{
 "cells": [
  {
   "attachments": {},
   "cell_type": "markdown",
   "metadata": {},
   "source": [
    "# Project Viral App Predictor\n",
    "\n",
    "## Goal:\n",
    "\n",
    "* Find the drivers behind Google application downloads on the Google Play Store.\n",
    "* Create a model that accurately predicts the likelihood an application will be downloaded 1 million or more times.\n",
    "* Test the effectiveness of ensemble style models on accuracy. \n"
   ]
  },
  {
   "attachments": {},
   "cell_type": "markdown",
   "metadata": {},
   "source": [
    "## Imports"
   ]
  },
  {
   "cell_type": "code",
   "execution_count": 1,
   "metadata": {},
   "outputs": [],
   "source": [
    "import pandas as pd\n",
    "import seaborn as sns\n",
    "import matplotlib.pyplot as plt\n",
    "import sklearn.preprocessing\n",
    "import gen_wrangle1 as gw\n",
    "import auto_model2a1 as am\n",
    "#hide warnings\n",
    "import warnings\n",
    "warnings.filterwarnings('ignore')\n",
    "from sklearn.metrics import classification_report\n",
    "from sklearn.preprocessing import MinMaxScaler\n",
    "from sklearn.svm import LinearSVC\n",
    "from sklearn.svm import SVC\n",
    "from sklearn.pipeline import make_pipeline\n",
    "from sklearn.preprocessing import StandardScaler\n",
    "from sklearn.datasets import make_classification\n",
    "from sklearn.ensemble import GradientBoostingClassifier\n",
    "from sklearn.metrics import classification_report\n",
    "from sklearn.ensemble import RandomForestClassifier\n",
    "from sklearn.ensemble import AdaBoostClassifier\n",
    "\n",
    "\n",
    "\n",
    "\n"
   ]
  },
  {
   "attachments": {},
   "cell_type": "markdown",
   "metadata": {},
   "source": [
    "# <div class=\"alert alert-block alert-info\">  Wrangle \n",
    "### Acquiring CSV\n",
    "* Dataset name is titled Google PlayStore Apps\n",
    "* Data acquired from Kaggel.com thanks to Gautham Prakash\n",
    "* Each row represents a Google application\n",
    "* Each column represents a feature\n",
    "\n",
    "### Prepare:\n",
    "* Loaded CSV file as a dataframe\n",
    "* Renamed columns\n",
    "* Encoded and dummied relevant features \n",
    "* Dropped all apps with less than 1000 downloads\n",
    "* Dropped all apps that were created before or after 2020\n",
    "* Created columns:\n",
    "\t* “Same_dev_id”\n",
    "\t* \"days_since_release\"\n",
    "\n",
    "* Dropped unneeded columns: \"installs\", \"released\", \"developer_email\", \"developer_website\", \"privacy_policy\", “developer_id”\n",
    "* Checked and fixed:\n",
    "\t* Nulls and NaNs\n",
    "\t* Data types\n",
    "\t* Downloads column: created a column “Viral” for the target variable (True/False categorical)\n",
    "* Outliers: to be an outlier is the goal for app creation.\n",
    "\n",
    "### Data Dictionary: \n",
    "* Explanation of dataset features\n",
    "\n"
   ]
  },
  {
   "attachments": {},
   "cell_type": "markdown",
   "metadata": {},
   "source": [
    "| Feature | Definition (measurement)|\n",
    "|:--------|:-----------|\n",
    "|App Name| Name of the app|\n",
    "|App Id| app id|\n",
    "|Category| Category the app is in (selected by creator)| \n",
    "|Rating| Quality rating given by users out of max score of 5| \n",
    "|Rating Count| Total count of the user rating| \n",
    "|Installs| Total number of installs the app has| \n",
    "|Minimum Installs| the minimum installs the app has|\n",
    "|Maximum Installs| the maximum installs the app has| \n",
    "|Free| If the app is free or not|\n",
    "|Price| The price of the app|\n",
    "|Currency| The currency of the cost of the app|\n",
    "|Size| Size of the app in kb|\n",
    "|Minimum Android| The minimum Android OS needed to run the app|\n",
    "|Developer Website| The website address for the developer|\n",
    "|Developer Email| The Email address of the developer|\n",
    "|Released| The date the app was released| \n",
    "|Privacy Policy| The link to the Privacy Policy|\n",
    "|Last Updated| The date of the app’s last update|\n",
    "|Content Rating| The content rating of the app|\n",
    "|Ad Supported| If the app has built in ads|\n",
    "|In app purchases| If the app has in app purchases| \n",
    "|Editor Choice| If the app has an editor choice award|\n",
    "|Viral| If the app has 1 million or more downloads (Target Variable)|\n"
   ]
  },
  {
   "cell_type": "code",
   "execution_count": 2,
   "metadata": {},
   "outputs": [
    {
     "name": "stdout",
     "output_type": "stream",
     "text": [
      "CSV found\n"
     ]
    }
   ],
   "source": [
    "#Funcions for data prep\n",
    "df=gw.get_csv(\"Google-Playstore.csv\")\n",
    "df=gw.prep_it(df)"
   ]
  },
  {
   "attachments": {},
   "cell_type": "markdown",
   "metadata": {},
   "source": [
    "### Split"
   ]
  },
  {
   "cell_type": "code",
   "execution_count": 3,
   "metadata": {},
   "outputs": [],
   "source": [
    "#Funciont for split\n",
    "train_df, validate_df, test_df = gw.split_function_cat_target(df, 'viral')"
   ]
  },
  {
   "attachments": {},
   "cell_type": "markdown",
   "metadata": {},
   "source": [
    "<div class=\"alert alert-block alert-info\"> \n",
    "    \n",
    "## Explore\n",
    "    \n",
    "### Questions To Answer:\n",
    "1. Does the number of days since an app's release date affect if a million+ downloads a reached (viral)?\n",
    "2. Does editors choice and/or rating affect viral? \n",
    "3. Does content rating affect viral?\n",
    "4. What are the best features to use?"
   ]
  },
  {
   "attachments": {},
   "cell_type": "markdown",
   "metadata": {},
   "source": [
    "## 1. Does the number of days since an app’s release date affect the likelihood it goes viral?"
   ]
  },
  {
   "cell_type": "code",
   "execution_count": 4,
   "metadata": {},
   "outputs": [
    {
     "name": "stdout",
     "output_type": "stream",
     "text": [
      "Null Hypothesis: There is no linear correlation between DAYS_SINCE_RELEASE and viral\n",
      "DAYS_SINCE_RELEASE and viral\n"
     ]
    },
    {
     "data": {
      "image/png": "[encoded data removed]",
      "text/plain": [
       "<Figure size 360x360 with 1 Axes>"
      ]
     },
     "metadata": {
      "needs_background": "light"
     },
     "output_type": "display_data"
    },
    {
     "name": "stdout",
     "output_type": "stream",
     "text": [
      "t = 2.0752878870999805, p = 0.03806986405597607, alpha = .05\n",
      "We reject the null hypothesis\n",
      "--------------------------------------------------------------------\n"
     ]
    }
   ],
   "source": [
    "#Calls pairwise and t-test function\n",
    "gw.single_pairwise(train_df, \"viral\", \"days_since_release\")"
   ]
  },
  {
   "attachments": {},
   "cell_type": "markdown",
   "metadata": {},
   "source": [
    "### No. While we can reject the null hypothesis the number of days an app has been out does not significantly affect it’s viral chances."
   ]
  },
  {
   "attachments": {},
   "cell_type": "markdown",
   "metadata": {},
   "source": [
    "## 2. Does editors choice and/or rating affect viral? "
   ]
  },
  {
   "cell_type": "code",
   "execution_count": 5,
   "metadata": {},
   "outputs": [
    {
     "name": "stdout",
     "output_type": "stream",
     "text": [
      "Null Hypothesis: There is no linear correlation between EDITORS_CHOICE and viral\n",
      "EDITORS_CHOICE and viral\n"
     ]
    },
    {
     "data": {
      "image/png": "[encoded data removed]",
      "text/plain": [
       "<Figure size 360x360 with 1 Axes>"
      ]
     },
     "metadata": {
      "needs_background": "light"
     },
     "output_type": "display_data"
    },
    {
     "name": "stdout",
     "output_type": "stream",
     "text": [
      "t = 4.874225047740132, p = 1.1662553430170322e-06, alpha = .05\n",
      "We reject the null hypothesis\n",
      "--------------------------------------------------------------------\n",
      "Null Hypothesis: There is no linear correlation between RATING and viral\n",
      "RATING and viral\n"
     ]
    },
    {
     "data": {
      "image/png": "[encoded data removed]",
      "text/plain": [
       "<Figure size 360x360 with 1 Axes>"
      ]
     },
     "metadata": {
      "needs_background": "light"
     },
     "output_type": "display_data"
    },
    {
     "name": "stdout",
     "output_type": "stream",
     "text": [
      "t = 48.5289340703011, p = 0.0, alpha = .05\n",
      "We reject the null hypothesis\n",
      "--------------------------------------------------------------------\n"
     ]
    }
   ],
   "source": [
    "#Calls pairwise and t-test function\n",
    "gw.single_pairwise(train_df, \"viral\", \"editors_choice\")\n",
    "#Calls pairwise and t-test function\n",
    "gw.single_pairwise(train_df, \"viral\", \"rating\")"
   ]
  },
  {
   "attachments": {},
   "cell_type": "markdown",
   "metadata": {},
   "source": [
    "### Yes, editor’s choice has a significant effect on an app’s viral chances. Yes, an app’s rating does have a small but positive effect on its chances of going viral. "
   ]
  },
  {
   "attachments": {},
   "cell_type": "markdown",
   "metadata": {},
   "source": [
    "## 3. Does content rating affect viral?"
   ]
  },
  {
   "cell_type": "code",
   "execution_count": 6,
   "metadata": {},
   "outputs": [
    {
     "name": "stdout",
     "output_type": "stream",
     "text": [
      "Null Hypothesis: EVERYONE 10+ does not affect viral\n",
      "\n",
      "EVERYONE 10+ and viral\n"
     ]
    },
    {
     "data": {
      "image/png": "[encoded data removed]",
      "text/plain": [
       "<Figure size 432x288 with 1 Axes>"
      ]
     },
     "metadata": {
      "needs_background": "light"
     },
     "output_type": "display_data"
    },
    {
     "name": "stdout",
     "output_type": "stream",
     "text": [
      "\n",
      "ANALYZE and SUMMARIZE\n",
      "Observed\n",
      "[[109672   2152]\n",
      " [  1656    168]]\n",
      "\n",
      "Expected\n",
      "[[109541   2282]\n",
      " [  1786     37]]\n",
      "\n",
      "----\n",
      "chi^2 = 472.8124\n",
      "p-value = 0.0000\n",
      "----\n",
      "We reject the null hypothesis.\n",
      "\n",
      "--------------------------------------------------------------------------------------------------------------------------\n"
     ]
    }
   ],
   "source": [
    "# Calls a function to chart a continuous variable against the target and runs a chi-square test\n",
    "gw.cat_on_target(train_df, \"viral\", \"viral\", \"Everyone 10+\")"
   ]
  },
  {
   "attachments": {},
   "cell_type": "markdown",
   "metadata": {},
   "source": [
    "### Yes, an app’s content rating does have an effect on it going viral. "
   ]
  },
  {
   "attachments": {},
   "cell_type": "markdown",
   "metadata": {},
   "source": [
    "## What are the best features to use?\n",
    "### A data frame created using the kbest test of the top 10 features correlated with the target variable:"
   ]
  },
  {
   "cell_type": "code",
   "execution_count": 7,
   "metadata": {},
   "outputs": [
    {
     "data": {
      "text/html": [
       "<div>\n",
       "<style scoped>\n",
       "    .dataframe tbody tr th:only-of-type {\n",
       "        vertical-align: middle;\n",
       "    }\n",
       "\n",
       "    .dataframe tbody tr th {\n",
       "        vertical-align: top;\n",
       "    }\n",
       "\n",
       "    .dataframe thead th {\n",
       "        text-align: right;\n",
       "    }\n",
       "</style>\n",
       "<table border=\"1\" class=\"dataframe\">\n",
       "  <thead>\n",
       "    <tr style=\"text-align: right;\">\n",
       "      <th></th>\n",
       "      <th>p_value</th>\n",
       "      <th>f_score</th>\n",
       "    </tr>\n",
       "  </thead>\n",
       "  <tbody>\n",
       "    <tr>\n",
       "      <th>in_app_purchases</th>\n",
       "      <td>0.000000e+00</td>\n",
       "      <td>3481.651628</td>\n",
       "    </tr>\n",
       "    <tr>\n",
       "      <th>file_size</th>\n",
       "      <td>0.000000e+00</td>\n",
       "      <td>1953.541036</td>\n",
       "    </tr>\n",
       "    <tr>\n",
       "      <th>editors_choice</th>\n",
       "      <td>1.909608e-175</td>\n",
       "      <td>800.283558</td>\n",
       "    </tr>\n",
       "    <tr>\n",
       "      <th>Everyone 10+</th>\n",
       "      <td>7.705595e-106</td>\n",
       "      <td>478.446363</td>\n",
       "    </tr>\n",
       "    <tr>\n",
       "      <th>Everyone</th>\n",
       "      <td>5.025891e-84</td>\n",
       "      <td>377.843811</td>\n",
       "    </tr>\n",
       "    <tr>\n",
       "      <th>Weather</th>\n",
       "      <td>5.736066e-72</td>\n",
       "      <td>322.304469</td>\n",
       "    </tr>\n",
       "    <tr>\n",
       "      <th>Simulation</th>\n",
       "      <td>9.991718e-70</td>\n",
       "      <td>311.987692</td>\n",
       "    </tr>\n",
       "    <tr>\n",
       "      <th>rating</th>\n",
       "      <td>2.384413e-65</td>\n",
       "      <td>291.840211</td>\n",
       "    </tr>\n",
       "    <tr>\n",
       "      <th>Role Playing</th>\n",
       "      <td>5.825880e-65</td>\n",
       "      <td>290.055017</td>\n",
       "    </tr>\n",
       "    <tr>\n",
       "      <th>ad_supported</th>\n",
       "      <td>1.077131e-50</td>\n",
       "      <td>224.459157</td>\n",
       "    </tr>\n",
       "  </tbody>\n",
       "</table>\n",
       "</div>"
      ],
      "text/plain": [
       "                        p_value      f_score\n",
       "in_app_purchases   0.000000e+00  3481.651628\n",
       "file_size          0.000000e+00  1953.541036\n",
       "editors_choice    1.909608e-175   800.283558\n",
       "Everyone 10+      7.705595e-106   478.446363\n",
       "Everyone           5.025891e-84   377.843811\n",
       "Weather            5.736066e-72   322.304469\n",
       "Simulation         9.991718e-70   311.987692\n",
       "rating             2.384413e-65   291.840211\n",
       "Role Playing       5.825880e-65   290.055017\n",
       "ad_supported       1.077131e-50   224.459157"
      ]
     },
     "execution_count": 7,
     "metadata": {},
     "output_type": "execute_result"
    }
   ],
   "source": [
    "#Calls a function to split X,y, scales data and runs a kbest test\n",
    "X_train, y_train, X_validate, y_validate, X_test, y_test = gw.x_y_split(train_df, validate_df, test_df)\n",
    "train_scaled, validate_scaled, test_scaled = gw.scale_data(X_train, X_validate, X_test)\n",
    "kbest_results=gw.select_kbest(train_scaled, y_train)\n",
    "kbest_results.sort_values(by=\"f_score\", ascending=False).head(10)"
   ]
  },
  {
   "attachments": {},
   "cell_type": "markdown",
   "metadata": {},
   "source": [
    "### The top two visualized and tested:"
   ]
  },
  {
   "cell_type": "code",
   "execution_count": 8,
   "metadata": {},
   "outputs": [
    {
     "name": "stdout",
     "output_type": "stream",
     "text": [
      "Null Hypothesis: IN_APP_PURCHASES does not affect viral\n",
      "\n",
      "IN_APP_PURCHASES and viral\n"
     ]
    },
    {
     "data": {
      "image/png": "[encoded data removed]",
      "text/plain": [
       "<Figure size 432x288 with 1 Axes>"
      ]
     },
     "metadata": {
      "needs_background": "light"
     },
     "output_type": "display_data"
    },
    {
     "name": "stdout",
     "output_type": "stream",
     "text": [
      "\n",
      "ANALYZE and SUMMARIZE\n",
      "Observed\n",
      "[[96604  1029]\n",
      " [14724  1291]]\n",
      "\n",
      "Expected\n",
      "[[95639  1993]\n",
      " [15688   326]]\n",
      "\n",
      "----\n",
      "chi^2 = 3374.7148\n",
      "p-value = 0.0000\n",
      "----\n",
      "We reject the null hypothesis.\n",
      "\n",
      "--------------------------------------------------------------------------------------------------------------------------\n",
      "Null Hypothesis: There is no linear correlation between FILE_SIZE and viral\n",
      "FILE_SIZE and viral\n"
     ]
    },
    {
     "data": {
      "image/png": "[encoded data removed]",
      "text/plain": [
       "<Figure size 360x360 with 1 Axes>"
      ]
     },
     "metadata": {
      "needs_background": "light"
     },
     "output_type": "display_data"
    },
    {
     "name": "stdout",
     "output_type": "stream",
     "text": [
      "t = 25.905788506592256, p = 3.548262199300643e-130, alpha = .05\n",
      "We reject the null hypothesis\n",
      "--------------------------------------------------------------------\n"
     ]
    }
   ],
   "source": [
    "#Calls a function to chart a continuous variable against the target and runs a chi-square test\n",
    "gw.cat_on_target(train_df, \"viral\", \"viral\", \"in_app_purchases\")\n",
    "gw.single_pairwise(train_df, \"viral\", \"file_size\")"
   ]
  },
  {
   "attachments": {},
   "cell_type": "markdown",
   "metadata": {},
   "source": [
    "<div class=\"alert alert-block alert-info\">  \n",
    "\n",
    "## Explore Takeaways:\n",
    "1. Does the number of days since an app's release date affect viral?\n",
    "    * Surprisingly, no. This is likely due to the fact that most apps, due to quality and other variables beyond the scope of this initial project, will never make it pass 0 downloads \n",
    "    no matter how long they stay on the app store.\n",
    "2. Does editors choice and/or rating affect viral? \n",
    "    * Yes editors choice has a significant effect on going viral but user rating has very little positive impact on going viral. This indicates that users of the app store put more stock in the “editor” versus other users. \n",
    "3. Does content rating affect viral?\n",
    "    * Yes, going for the largest audience possible by having a low content rating has a very significant impact on the app’s likelihood of going viral. \n",
    "4. What are the best features to use?\n",
    "\n",
    "| Feature | p_value | f_score |\n",
    "|:--------|:--------|:---------|    \t\t\n",
    "|in_app_purchases|\t0.000000e+00|\t3481.651628|\n",
    "|file_size|\t0.000000e+00|\t1953.541036|\n",
    "|editors_choice|\t1.909608e-175|\t800.283558|\n",
    "|Everyone 10+|\t7.705595e-106|\t478.446363|\n",
    "|Everyone|\t5.025891e-84|\t377.843811|\n",
    "|Weather|\t5.736066e-72|\t322.304469|\n",
    "|Simulation|\t9.991718e-70|\t311.987692|\n",
    "|rating|\t2.384413e-65|\t291.840211|\n",
    "|Role Playing|\t5.825880e-65|\t290.055017|\n",
    "ad_supported|\t1.077131e-50|\t224.459157|\n",
    "\n",
    "* These features will be used in the first iteration of modeling. \n",
    "\n",
    "* The high correlation between in-app purchases and going viral is likely related to the fact that games and other popular apps have in-app purchases not because users love in-app purchases.   \n",
    "* A similar reason is likely driving the correlation between file size and going viral. Games and other sophisticated apps require larger file sizes.  "
   ]
  },
  {
   "attachments": {},
   "cell_type": "markdown",
   "metadata": {},
   "source": [
    "<div class=\"alert alert-block alert-info\"> \n",
    "\n",
    "## Preprocessing\n",
    "\n",
    "* Encoded any categoricals\n",
    "\n",
    "* Split into X_train, y_train, X_validate, y_validate, X_test, y_test using the above selected features for the first iteration of modeling. \n",
    "\n"
   ]
  },
  {
   "attachments": {},
   "cell_type": "markdown",
   "metadata": {},
   "source": [
    "<div class=\"alert alert-block alert-info\"> \n",
    "    \n",
    "# Modeling Overview\n",
    "        \n",
    "## Features to Used \n",
    "* The first iteration uses the top ten features   \n",
    "* The second iteration of modeling uses all features \n",
    "* The third iteration of modeling uses all features and a avariety of ensemble modeling methods \n",
    "   \n",
    "---\n",
    "# Models Used and Metrics       \n",
    "\n",
    "## **Classification Models Used:**\n",
    "    \n",
    "* K-Nearest Neighbors\n",
    "* Random Forest\n",
    "* Gradient Boosting Classifier\n",
    "* Random Forest of Random Forest \n",
    "* Logistic Regression\n",
    " \n",
    "#### Baseline: 97.96%    \n",
    "#### Accuracy and precision are the evaluation metrics"
   ]
  },
  {
   "attachments": {},
   "cell_type": "markdown",
   "metadata": {},
   "source": [
    "# Modeling with top 10 features\n",
    "### Baseline: 97.96"
   ]
  },
  {
   "cell_type": "code",
   "execution_count": 9,
   "metadata": {},
   "outputs": [],
   "source": [
    "# Sets X and y\n",
    "X_train, y_train, X_validate, y_validate, X_test, y_test = gw.x_y_split_top_10(train_df, validate_df, test_df)"
   ]
  },
  {
   "attachments": {},
   "cell_type": "markdown",
   "metadata": {},
   "source": [
    "## KNN with top features"
   ]
  },
  {
   "cell_type": "code",
   "execution_count": 10,
   "metadata": {},
   "outputs": [
    {
     "name": "stdout",
     "output_type": "stream",
     "text": [
      "   k  train_accuracy  validate_accuracy     delta\n",
      "0  3        0.981117           0.977167  0.003951\n",
      "2  5        0.980035           0.978302  0.001733\n",
      "1  4        0.980158           0.979067  0.001091\n"
     ]
    }
   ],
   "source": [
    "#calls the function to run a knn model\n",
    "am.auto_knn_scores(X_train, y_train, X_validate, y_validate)"
   ]
  },
  {
   "attachments": {},
   "cell_type": "markdown",
   "metadata": {},
   "source": [
    "### Fails to beat baseline"
   ]
  },
  {
   "attachments": {},
   "cell_type": "markdown",
   "metadata": {},
   "source": [
    "## Logistic regression with top features"
   ]
  },
  {
   "cell_type": "code",
   "execution_count": 11,
   "metadata": {},
   "outputs": [
    {
     "name": "stdout",
     "output_type": "stream",
     "text": [
      "   c_range  train_accuracy  validate_accuracy     delta\n",
      "0      0.1        0.979586           0.979569  0.000017\n",
      "1      0.2        0.979586           0.979569  0.000017\n",
      "2      0.3        0.979586           0.979569  0.000017\n",
      "3      0.4        0.979586           0.979569  0.000017\n",
      "4      0.5        0.979586           0.979569  0.000017\n",
      "5      0.6        0.979586           0.979569  0.000017\n",
      "6      0.7        0.979586           0.979569  0.000017\n",
      "7      0.8        0.979586           0.979569  0.000017\n",
      "8      0.9        0.979586           0.979569  0.000017\n"
     ]
    }
   ],
   "source": [
    "#Calls the Logistic Regression function\n",
    "am.auto_lo_regress_scores(X_train, y_train, X_validate, y_validate)"
   ]
  },
  {
   "attachments": {},
   "cell_type": "markdown",
   "metadata": {},
   "source": [
    "### Fails to beat baseline"
   ]
  },
  {
   "attachments": {},
   "cell_type": "markdown",
   "metadata": {},
   "source": [
    "## Random Forest with top features"
   ]
  },
  {
   "cell_type": "code",
   "execution_count": 12,
   "metadata": {},
   "outputs": [
    {
     "name": "stdout",
     "output_type": "stream",
     "text": [
      "    max_depth  train_accuracy  validate_accuracy     delta\n",
      "14         19        0.985437           0.977800  0.007637\n",
      "13         18        0.984751           0.978275  0.006476\n",
      "12         17        0.983898           0.978671  0.005226\n",
      "11         16        0.983264           0.978909  0.004355\n",
      "10         15        0.982490           0.979384  0.003106\n",
      "9          14        0.981689           0.979384  0.002305\n",
      "8          13        0.981012           0.979463  0.001548\n",
      "7          12        0.980642           0.979542  0.001100\n",
      "6          11        0.980255           0.979674  0.000581\n",
      "5          10        0.980000           0.979648  0.000352\n",
      "4           9        0.979912           0.979595  0.000317\n",
      "3           8        0.979859           0.979595  0.000264\n",
      "1           6        0.979797           0.979621  0.000176\n",
      "2           7        0.979815           0.979674  0.000141\n",
      "0           5        0.979692           0.979569  0.000123\n"
     ]
    }
   ],
   "source": [
    "#Calls the Decision Tree function\n",
    "am.auto_random_forest_scores(X_train, y_train, X_validate, y_validate)"
   ]
  },
  {
   "attachments": {},
   "cell_type": "markdown",
   "metadata": {},
   "source": [
    "### Beats baseline at a max depth of 7 with 97.97% accuracy and is also the best model"
   ]
  },
  {
   "attachments": {},
   "cell_type": "markdown",
   "metadata": {},
   "source": [
    "## Testing on the best model"
   ]
  },
  {
   "cell_type": "code",
   "execution_count": 13,
   "metadata": {},
   "outputs": [
    {
     "name": "stdout",
     "output_type": "stream",
     "text": [
      "\n",
      "------------------------ Test Model with depth of 7 Scores------------------------------\n",
      "                      0           1  accuracy     macro avg  weighted avg\n",
      "precision      0.980501    0.136986  0.973999      0.558743      0.963289\n",
      "recall         0.993209    0.051746  0.973999      0.522478      0.973999\n",
      "f1-score       0.986814    0.075117  0.973999      0.530966      0.968211\n",
      "support    37110.000000  773.000000  0.973999  37883.000000  37883.000000\n",
      "------------ Metrics ----------\n",
      "Accuracy is 0.9739988913232849\n"
     ]
    },
    {
     "data": {
      "image/png": "[encoded data removed]",
      "text/plain": [
       "<Figure size 1152x576 with 1 Axes>"
      ]
     },
     "metadata": {
      "needs_background": "light"
     },
     "output_type": "display_data"
    }
   ],
   "source": [
    "am.auto_random_trees_test(X_test, y_test, X_train, y_train, max_depth = 7)"
   ]
  },
  {
   "attachments": {},
   "cell_type": "markdown",
   "metadata": {},
   "source": [
    "### The test model failed to beat the baseline. "
   ]
  },
  {
   "attachments": {},
   "cell_type": "markdown",
   "metadata": {},
   "source": [
    "# Modeling on all features"
   ]
  },
  {
   "cell_type": "code",
   "execution_count": 14,
   "metadata": {},
   "outputs": [],
   "source": [
    "#Sets X and y for all features\n",
    "X_train, y_train, X_validate, y_validate, X_test, y_test = gw.x_y_split(train_df, validate_df, test_df)"
   ]
  },
  {
   "attachments": {},
   "cell_type": "markdown",
   "metadata": {},
   "source": [
    "## Gradient Boosting Classifier with all features"
   ]
  },
  {
   "cell_type": "code",
   "execution_count": 15,
   "metadata": {},
   "outputs": [
    {
     "name": "stdout",
     "output_type": "stream",
     "text": [
      "Train score: 0.9797268759679009\n",
      "Validate score: 0.9797006572869097\n",
      "                      0           1  accuracy     macro avg  weighted avg\n",
      "precision      0.979749    0.777778  0.979701      0.878763      0.975622\n",
      "recall         0.999946    0.009044  0.979701      0.504495      0.979701\n",
      "f1-score       0.989744    0.017880  0.979701      0.503812      0.969888\n",
      "support    37109.000000  774.000000  0.979701  37883.000000  37883.000000\n"
     ]
    }
   ],
   "source": [
    "#GradientBoostingClassifier\n",
    "am.auto_gradient_boosting_classifier(X_train, y_train, X_validate, y_validate)\n"
   ]
  },
  {
   "attachments": {},
   "cell_type": "markdown",
   "metadata": {},
   "source": [
    "### Validation beats baseline with a 97.97% accuracy"
   ]
  },
  {
   "attachments": {},
   "cell_type": "markdown",
   "metadata": {},
   "source": [
    "## KNN with all features"
   ]
  },
  {
   "attachments": {},
   "cell_type": "markdown",
   "metadata": {},
   "source": [
    "am.auto_knn_scores(X_train, y_train, X_validate, y_validate)\n",
    "* This model takes 28 minutes to run. The output is as follows:\n",
    "\n",
    "| Index | K | train_accuracy | validate_accuracy | delta\n",
    "|:------|:--|:---------------|:------------------|:-----| \n",
    "|0|  3|        0.980915|           0.977272|  0.003643|\n",
    "|2|  5|        0.979841|           0.979226|  0.000616|\n",
    "|1|  4|        0.979815|           0.979437|  0.000378|\n",
    "\n",
    "* If you want you can run the model by running the function at the top"
   ]
  },
  {
   "attachments": {},
   "cell_type": "markdown",
   "metadata": {},
   "source": [
    "### Fails to beat baseline"
   ]
  },
  {
   "attachments": {},
   "cell_type": "markdown",
   "metadata": {},
   "source": [
    "## Random Forest with all features"
   ]
  },
  {
   "cell_type": "code",
   "execution_count": 16,
   "metadata": {},
   "outputs": [
    {
     "name": "stdout",
     "output_type": "stream",
     "text": [
      "    max_depth  train_accuracy  validate_accuracy     delta\n",
      "14         19        0.981812           0.979833  0.001980\n",
      "13         18        0.981328           0.979780  0.001548\n",
      "12         17        0.980880           0.979806  0.001073\n",
      "11         16        0.980510           0.979753  0.000757\n",
      "10         15        0.980149           0.979701  0.000449\n",
      "9          14        0.980061           0.979753  0.000308\n",
      "8          13        0.979956           0.979701  0.000255\n",
      "6          11        0.979744           0.979648  0.000097\n",
      "7          12        0.979736           0.979648  0.000088\n",
      "5          10        0.979630           0.979569  0.000061\n",
      "4           9        0.979595           0.979569  0.000026\n",
      "0           5        0.979586           0.979569  0.000017\n",
      "1           6        0.979586           0.979569  0.000017\n",
      "2           7        0.979586           0.979569  0.000017\n",
      "3           8        0.979586           0.979569  0.000017\n"
     ]
    }
   ],
   "source": [
    "am.auto_random_forest_entropy_scores(X_train, y_train, X_validate, y_validate)"
   ]
  },
  {
   "attachments": {},
   "cell_type": "markdown",
   "metadata": {},
   "source": [
    "### Validate Beats baseline at max_depth of 18 with a 97.98% accuracy "
   ]
  },
  {
   "attachments": {},
   "cell_type": "markdown",
   "metadata": {},
   "source": [
    "## Testing on the best model"
   ]
  },
  {
   "cell_type": "code",
   "execution_count": 17,
   "metadata": {},
   "outputs": [
    {
     "name": "stdout",
     "output_type": "stream",
     "text": [
      "\n",
      "------------------------ Test Model with depth of 18 Scores------------------------------\n",
      "                      0           1  accuracy     macro avg  weighted avg\n",
      "precision      0.979852    0.769231   0.97978      0.874541      0.975554\n",
      "recall         0.999919    0.012937   0.97978      0.506428      0.979780\n",
      "f1-score       0.989784    0.025445   0.97978      0.507615      0.970107\n",
      "support    37110.000000  773.000000   0.97978  37883.000000  37883.000000\n",
      "------------ Metrics ----------\n",
      "Accuracy is 0.979779848480849\n"
     ]
    },
    {
     "data": {
      "image/png": "[encoded data removed]",
      "text/plain": [
       "<Figure size 1152x576 with 1 Axes>"
      ]
     },
     "metadata": {
      "needs_background": "light"
     },
     "output_type": "display_data"
    }
   ],
   "source": [
    "am.auto_random_trees_test_with_entropy(X_test, y_test, X_train, y_train)"
   ]
  },
  {
   "attachments": {},
   "cell_type": "markdown",
   "metadata": {},
   "source": [
    "### Test model Beats baseline with a accuracy score of 97.98% with a precision score of 77%"
   ]
  },
  {
   "attachments": {},
   "cell_type": "markdown",
   "metadata": {},
   "source": [
    "# Using a Random Forest of Random Forests model \n",
    "### This is an experament to increase predictive accuracy \n",
    "* This uses 3 random forest models tied together with a voting classifier. "
   ]
  },
  {
   "cell_type": "code",
   "execution_count": 18,
   "metadata": {},
   "outputs": [
    {
     "name": "stdout",
     "output_type": "stream",
     "text": [
      "DT1: 0.9813283119808531\n",
      "DT2: 0.981389905673659\n",
      "DT3: 0.9813723074757145\n",
      "Ensemble: 0.9813195128818809\n",
      "---------------------------------------------\n",
      "DT1: 0.979779848480849\n",
      "DT2: 0.9797534514162025\n",
      "DT3: 0.9798326426101418\n",
      "Ensemble: 0.979779848480849\n",
      "---------------------------------------------\n",
      "                      0           1  accuracy     macro avg  weighted avg\n",
      "precision      0.979852    0.785714   0.97978      0.882783      0.975885\n",
      "recall         0.999919    0.014212   0.97978      0.507066      0.979780\n",
      "f1-score       0.989784    0.027919   0.97978      0.508851      0.970131\n",
      "support    37109.000000  774.000000   0.97978  37883.000000  37883.000000\n"
     ]
    }
   ],
   "source": [
    "# Function to call the Random Forest of Random Forests\n",
    "am.random_forest_voting_classifier(X_train, y_train, X_validate, y_validate)"
   ]
  },
  {
   "cell_type": "code",
   "execution_count": 19,
   "metadata": {},
   "outputs": [
    {
     "name": "stdout",
     "output_type": "stream",
     "text": [
      "DT1: 0.979779848480849\n",
      "DT2: 0.9797006572869097\n",
      "DT3: 0.9796742602222633\n",
      "Ensemble: 0.9797534514162025\n",
      "---------------------------------------------\n",
      "                      0           1  accuracy     macro avg  weighted avg\n",
      "precision      0.979826    0.750000  0.979753      0.864913      0.975137\n",
      "recall         0.999919    0.011643  0.979753      0.505781      0.979753\n",
      "f1-score       0.989771    0.022930  0.979753      0.506350      0.970042\n",
      "support    37110.000000  773.000000  0.979753  37883.000000  37883.000000\n"
     ]
    },
    {
     "data": {
      "image/png": "[encoded data removed]",
      "text/plain": [
       "<Figure size 1152x576 with 1 Axes>"
      ]
     },
     "metadata": {
      "needs_background": "light"
     },
     "output_type": "display_data"
    }
   ],
   "source": [
    "# Random Forest Classifier Ensemble \n",
    "am.random_forest_voting_classifier_test(X_train, y_train, X_test, y_test)\n"
   ]
  },
  {
   "attachments": {},
   "cell_type": "markdown",
   "metadata": {},
   "source": [
    "<div class=\"alert alert-block alert-info\">\n",
    "\n",
    "## Initial model performance and Conclusions\n",
    "### Throughout 1st and 2nd iterations most models failed to beat the baseline of 97.96%. During the 2nd iteration and with all the features sent in a random forest model with a max  depth of 18 and with criterion set to “entropy” beat base line with a accuracy score of 97.98% overall accuracy and with precision score of 77%.\n",
    "### On the 3rd iteration the random forest voting classifier beat baseline with an accuracy score of 97.98% with an precision score of 75%. \n",
    "#### Precision scores for the random forest voting classifier:\n",
    "    - Viral No : 97.98%\n",
    "    - Viral Yes : 75%\n",
    "### While performing well, the random forest voting classifier did significantly improve performance over a traditional random forest.    "
   ]
  },
  {
   "attachments": {},
   "cell_type": "markdown",
   "metadata": {},
   "source": [
    "<div class=\"alert alert-block alert-info\">\n",
    "    \n",
    "# Project Conclusion\n",
    "    \n",
    "\n",
    "### Explore:\n",
    "   \n",
    "* In-app purchases and file size had were the greatist indecators of viral likeliness. \n",
    "  \n",
    "* Editors choice was more important to viral likeliness than general customer ratings. \n",
    "  \n",
    "* How long an app has been on the market has suprisinginly\n",
    "  \n",
    "* How long an app has been on the market has surprising little to do with viral success. \n",
    "    \n",
    "### Modeling:\n",
    "\n",
    "* After much experimentation, random forest remains one of the top performing models with an accuracy score of 97.98% (beating the baseline of 97.96%) with a relatively high precision score of 77% even beating the random forest voting classifier’s precision score by 2%. While not performing as well as the vanilla random forest model the random forest voting classifier (random forest of random forests) can be an useful tool in future projects.\n",
    "    \n",
    "\n",
    "    \n",
    "### Recommendations and Next Steps:\n",
    " \n",
    "In order to fully capture the variables that go into making an app a viral success, more data is needed on each app’s human network, i.e. grassroots marketing campaigns, social media campaigns, crowd-funding, etc.  There is more that makes a popular app than file-size and editor’s choice awards.  "
   ]
  }
 ],
 "metadata": {
  "kernelspec": {
   "display_name": "base",
   "language": "python",
   "name": "python3"
  },
  "language_info": {
   "codemirror_mode": {
    "name": "ipython",
    "version": 3
   },
   "file_extension": ".py",
   "mimetype": "text/x-python",
   "name": "python",
   "nbconvert_exporter": "python",
   "pygments_lexer": "ipython3",
   "version": "3.8.8"
  },
  "orig_nbformat": 4
 },
 "nbformat": 4,
 "nbformat_minor": 2
}
